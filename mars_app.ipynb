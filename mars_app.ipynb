{
 "cells": [
  {
   "cell_type": "code",
   "execution_count": 7,
   "id": "b5ba3cd5",
   "metadata": {},
   "outputs": [],
   "source": [
    "# Dependencies\n",
    "from bs4 import BeautifulSoup\n",
    "import requests\n",
    "import pymongo"
   ]
  },
  {
   "cell_type": "code",
   "execution_count": 8,
   "id": "4b33a972",
   "metadata": {},
   "outputs": [],
   "source": [
    "# Initialize PyMongo to work with MongoDBs\n",
    "conn = 'mongodb://localhost:27017'\n",
    "client = pymongo.MongoClient(conn)"
   ]
  },
  {
   "cell_type": "code",
   "execution_count": 9,
   "id": "a4889c63",
   "metadata": {},
   "outputs": [],
   "source": [
    "# Define database and collection\n",
    "db = client.mars_app\n",
    "collection = db.mars_app"
   ]
  },
  {
   "cell_type": "code",
   "execution_count": 4,
   "id": "fe2f3ac3",
   "metadata": {},
   "outputs": [],
   "source": [
    "# URL of page to be scraped\n",
    "url = 'https://redplanetscience.com/'\n",
    "\n",
    "# Retrieve page with the requests module\n",
    "response = requests.get(url)\n",
    "# Create BeautifulSoup object; parse with 'html.parser'\n",
    "soup = BeautifulSoup(response.text, 'html.parser')"
   ]
  },
  {
   "cell_type": "code",
   "execution_count": 10,
   "id": "d7e43fa7",
   "metadata": {},
   "outputs": [],
   "source": [
    "# Display the MongoDB records created above\n",
    "articles = db.articles.find()\n",
    "for article in articles:\n",
    "    print(article)"
   ]
  },
  {
   "cell_type": "code",
   "execution_count": 5,
   "id": "971c774b",
   "metadata": {},
   "outputs": [
    {
     "name": "stdout",
     "output_type": "stream",
     "text": [
      "-----------------\n",
      "Stanley Cup Final Game 2 Live Blog: Canadiens vs. Lightning\n",
      "Sights, sounds from Amalie Arena in Tampa\n",
      "2021-06-30\n",
      "-----------------\n",
      "Toews plans Blackhawks return after chronic immune response syndrome\n",
      "Captain resumes skating, took medical leave last December\n",
      "2021-06-30\n",
      "-----------------\n",
      "Killorn out for Lightning against Canadiens in Game 2 of Cup Final\n",
      "Forward missed final 19:04 of series opener with undisclosed injury, had blocked shot with left leg in second\n",
      "2021-06-30\n",
      "-----------------\n",
      "Andersen, Maple Leafs have mutual interest in return: report\n",
      "Goalie willing to share playing time with Campbell, can be free agent July 28\n",
      "2021-06-30\n",
      "-----------------\n",
      "McDavid of Oilers wins Hart Trophy as NHL most valuable player\n",
      "Unanimous selection after center led League in scoring with 105 points in 56 games\n",
      "2021-06-30\n",
      "-----------------\n",
      "Stanley Cup Final schedule\n",
      "Best-of-7 series between Canadiens, Lightning\n",
      "2021-06-28\n",
      "-----------------\n",
      "Fox of Rangers wins Norris Trophy as best defenseman in NHL\n",
      "Was second in scoring, power-play points, third in takeaways at position\n",
      "2021-06-29\n",
      "-----------------\n",
      "Power, projected No. 1 pick in 2021 Draft, yet to interview with Sabres\n",
      "Buffalo could select defenseman, top-rated North American skater\n",
      "2021-06-30\n",
      "-----------------\n",
      "Fleury of Golden Knights wins Vezina Trophy as best goalie in NHL\n",
      "Finished third in League in wins, shutouts to help Vegas qualify for playoffs\n",
      "2021-06-29\n",
      "-----------------\n",
      "Kaprizov of Wild wins Calder Trophy as NHL rookie of the year\n",
      "Forward led first-year players with 27 goals, 51 points\n",
      "2021-06-29\n",
      "-----------------\n",
      "Simmonds signs two-year, $1.8 million contract to stay with Maple Leafs\n",
      "Forward could have become unrestricted free agent July 28\n",
      "2021-06-29\n",
      "-----------------\n",
      "Richards joins NHL as special adviser to help grow youth audience\n",
      "Content creator will make appearances at marquee events, share ideas\n",
      "2021-06-30\n",
      "-----------------\n",
      "NHL announces 2020-21 First and Second All-Star teams\n",
      "Fox, Makar, Marchand, Marner, McDavid, Vasilevskiy honored\n",
      "2021-06-29\n",
      "-----------------\n",
      "NHL announces 2020-21 All-Rookie team\n",
      "Kaprizov, Miller, Nedeljkovic, Norris, Robertson, Smith honored\n",
      "2021-06-29\n",
      "-----------------\n",
      "Fox presented as Norris Trophy winner by ex-Rangers defenseman Leetch\n",
      "Hall of Famer was last New York player to earn honor\n",
      "2021-06-29\n",
      "-----------------\n",
      "McDavid of Oilers wins Ted Lindsay Award\n",
      "Center voted most outstanding player by NHLPA after leading League in scoring with 105 points\n",
      "2021-06-29\n",
      "-----------------\n",
      "Bolduc has 'whole package,' Damphousse tells 'NHL Draft Class' podcast\n",
      "Rimouski center stands out for skating, toughness, playmaking in offensive zone\n",
      "2021-06-30\n",
      "-----------------\n",
      "Nugent-Hopkins signs eight-year, $41 million contract to stay with Oilers\n",
      "Forward scored 35 points in 52 games, could have become unrestricted free agent July 28\n",
      "2021-06-30\n",
      "-----------------\n",
      "Chelios, Knight among those added to ESPN as NHL analysts\n",
      "Weekes, Callahan, Campbell-Pascall, DiPietro also join network starting next season\n",
      "2021-06-29\n"
     ]
    },
    {
     "ename": "AttributeError",
     "evalue": "'NoneType' object has no attribute 'text'",
     "output_type": "error",
     "traceback": [
      "\u001b[1;31m---------------------------------------------------------------------\u001b[0m",
      "\u001b[1;31mAttributeError\u001b[0m                      Traceback (most recent call last)",
      "\u001b[1;32m<ipython-input-5-d9939b7d5c47>\u001b[0m in \u001b[0;36m<module>\u001b[1;34m\u001b[0m\n\u001b[0;32m      8\u001b[0m \u001b[1;33m\u001b[0m\u001b[0m\n\u001b[0;32m      9\u001b[0m     \u001b[1;31m# scrape the article subheader\u001b[0m\u001b[1;33m\u001b[0m\u001b[1;33m\u001b[0m\u001b[1;33m\u001b[0m\u001b[0m\n\u001b[1;32m---> 10\u001b[1;33m     \u001b[0msubheader\u001b[0m \u001b[1;33m=\u001b[0m \u001b[0mresult\u001b[0m\u001b[1;33m.\u001b[0m\u001b[0mfind\u001b[0m\u001b[1;33m(\u001b[0m\u001b[1;34m'h2'\u001b[0m\u001b[1;33m,\u001b[0m \u001b[0mclass_\u001b[0m\u001b[1;33m=\u001b[0m\u001b[1;34m'article-item__subheader'\u001b[0m\u001b[1;33m)\u001b[0m\u001b[1;33m.\u001b[0m\u001b[0mtext\u001b[0m\u001b[1;33m\u001b[0m\u001b[1;33m\u001b[0m\u001b[0m\n\u001b[0m\u001b[0;32m     11\u001b[0m \u001b[1;33m\u001b[0m\u001b[0m\n\u001b[0;32m     12\u001b[0m     \u001b[1;31m# scrape the datetime\u001b[0m\u001b[1;33m\u001b[0m\u001b[1;33m\u001b[0m\u001b[1;33m\u001b[0m\u001b[0m\n",
      "\u001b[1;31mAttributeError\u001b[0m: 'NoneType' object has no attribute 'text'"
     ]
    }
   ],
   "source": [
    "# Retrieve the parent divs for all articles\n",
    "results = soup.find_all('div', class_='article-item__top')\n",
    "\n",
    "# loop over results to get article data\n",
    "for result in results:\n",
    "    # scrape the article header \n",
    "    header = result.find('h1', class_='article-item__headline').text\n",
    "    \n",
    "    # scrape the article subheader\n",
    "    subheader = result.find('h2', class_='article-item__subheader').text\n",
    "    \n",
    "    # scrape the datetime\n",
    "    datetime = result.find('span', class_='article-item__date')['data-date'] \n",
    "    \n",
    "    # get only the date from the datetime\n",
    "    date = datetime.split('T')[0]\n",
    "    \n",
    "    # print article data\n",
    "    print('-----------------')\n",
    "    print(header)\n",
    "    print(subheader)\n",
    "    print(date)\n",
    "\n",
    "    # Dictionary to be inserted into MongoDB\n",
    "    post = {\n",
    "        'header': header,\n",
    "        'subheader': subheader,\n",
    "        'date': date,\n",
    "    }\n",
    "\n",
    "    # Insert dictionary into MongoDB as a document\n",
    "    collection.insert_one(post)"
   ]
  },
  {
   "cell_type": "code",
   "execution_count": null,
   "id": "37476d6d",
   "metadata": {},
   "outputs": [],
   "source": []
  },
  {
   "cell_type": "code",
   "execution_count": null,
   "id": "d1a2a3ac",
   "metadata": {},
   "outputs": [],
   "source": []
  }
 ],
 "metadata": {
  "kernelspec": {
   "display_name": "PythonData",
   "language": "python",
   "name": "pythondata"
  },
  "language_info": {
   "codemirror_mode": {
    "name": "ipython",
    "version": 3
   },
   "file_extension": ".py",
   "mimetype": "text/x-python",
   "name": "python",
   "nbconvert_exporter": "python",
   "pygments_lexer": "ipython3",
   "version": "3.8.5"
  }
 },
 "nbformat": 4,
 "nbformat_minor": 5
}
